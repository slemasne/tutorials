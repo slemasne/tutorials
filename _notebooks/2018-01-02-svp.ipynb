{
 "cells": [
  {
   "cell_type": "markdown",
   "id": "f2b5b164",
   "metadata": {},
   "source": [
    "# SVP100 - Hitting The Wall\n",
    "\n",
    "> Data analysis on a running race\n",
    "\n",
    "- toc:true\n",
    "- sticky_rank: 2\n",
    "- author: Stephen Lemasney"
   ]
  },
  {
   "cell_type": "markdown",
   "id": "babac8af",
   "metadata": {},
   "source": [
    "In August of 2017 I ran the SVP100. This is a 100KM trail running race starting in Newmarket (Suffolk, UK) and ending in Manning Tree (Essex, UK). In regular distance marathons, its widely believed runners \"hit the wall\" at around 30KM mark (or 70% through the race). In this notebook, I want to see if the same holds true over a 100KM distance.\n",
    "\n",
    "From a high level, the code below performs the following:\n",
    "\n",
    "* Scrape results data from the race website (using Beautiful Soup)\n",
    "* Render scraped data into a DataFrame (using Pandas)\n",
    "* Format (or wrangle) the data into formats we can work with\n",
    "* Present results in time series graph (using Seaborn)"
   ]
  },
  {
   "cell_type": "markdown",
   "id": "145fb289",
   "metadata": {},
   "source": [
    "## 1. Import packages and set configurations\n",
    "\n",
    "First, let's import some packages. We'll use BeautifulSoup for web scraping, pandas for data analysis, and then seaborn for plotting. "
   ]
  },
  {
   "cell_type": "code",
   "execution_count": 1,
   "id": "0e2a38f1",
   "metadata": {},
   "outputs": [],
   "source": [
    "# Import the packages we'll use for our analysis\n",
    "import datetime\n",
    "import time\n",
    "import requests\n",
    "\n",
    "from bs4 import BeautifulSoup\n",
    "import pandas as pd\n",
    "\n",
    "import seaborn as sns\n",
    "import matplotlib.pyplot as plt"
   ]
  },
  {
   "cell_type": "markdown",
   "id": "4048c229",
   "metadata": {},
   "source": [
    "Then we set the plotting configuration. I really like the \"fivethirtyeight\" stylesheet which generates plots in the style used by fivethirtyeight.com."
   ]
  },
  {
   "cell_type": "code",
   "execution_count": 2,
   "id": "e3930e52",
   "metadata": {},
   "outputs": [
    {
     "name": "stdout",
     "output_type": "stream",
     "text": [
      "Populating the interactive namespace from numpy and matplotlib\n"
     ]
    }
   ],
   "source": [
    "# Use line magic function to enable matplotlib to work interactively with iPython\n",
    "\n",
    "%matplotlib inline\n",
    "%pylab inline\n",
    "\n",
    "# Set style to fivethirtyeight to create clean and clear looking graphs\n",
    "\n",
    "plt.style.use('fivethirtyeight')\n",
    "\n",
    "# Define a dictionary containing default plotting configurations\n",
    "\n",
    "params = {'legend.fontsize': 'small',\n",
    "          'figure.figsize': (12, 4.5),\n",
    "         'axes.labelsize': 'small',\n",
    "         'axes.titlesize':'medium',\n",
    "         'xtick.labelsize':'small',\n",
    "         'ytick.labelsize':'small'}\n",
    "\n",
    "pylab.rcParams.update(params)"
   ]
  },
  {
   "cell_type": "markdown",
   "id": "afb81a52",
   "metadata": {},
   "source": [
    "Next define some constants that we'll use in the notebook. First we define a URL which has a table which contains race result data. Then we have some details about the race distance."
   ]
  },
  {
   "cell_type": "code",
   "execution_count": 3,
   "id": "55acadc1",
   "metadata": {},
   "outputs": [],
   "source": [
    "# URL details for requests\n",
    "BASE_URL = \"http://www.svp100.co.uk/results-\"\n",
    "YEAR = 2017\n",
    "\n",
    "# Constants of race details\n",
    "DISTANCE_BETWEEN_CPS = [19.312, 17.702, 16.094, 17.702, 9.657, 13.679, 7.242]\n",
    "CPS_IN_KM = cp_miles = [(i * 1.60934) for i in [12, 23, 33, 44, 50, 58.5, 63]]"
   ]
  },
  {
   "cell_type": "markdown",
   "id": "c26bf8c5",
   "metadata": {},
   "source": [
    "## 2. Generate unformatted table of race data\n",
    "\n",
    "In the function below, we request data from the race website and return a DataFrame. For the most part, the DataFrame is unformatted."
   ]
  },
  {
   "cell_type": "code",
   "execution_count": 4,
   "id": "48124e93",
   "metadata": {},
   "outputs": [],
   "source": [
    "#collapse-hide\n",
    "\n",
    "def df_builder(base_url=BASE_URL, year=YEAR):\n",
    "    \n",
    "    \"\"\"\n",
    "    This function returns a pandas DataFrame which contain data scraped from the race website.\n",
    "    The data is unformatted.\n",
    "    \n",
    "    Attributes:\n",
    "    -----------\n",
    "    base_url (str): the url which contains race data in HTML\n",
    "    year (int): the year for we would like data\n",
    "    \"\"\"\n",
    "    \n",
    "    # Scrape the data from the race website\n",
    "    url = base_url + str(year)\n",
    "    r = requests.get(url).text\n",
    "    soup = BeautifulSoup(r, 'lxml')\n",
    "    \n",
    "    # Find tables from the html\n",
    "    rows = soup.find_all('tr')[1:]\n",
    "    \n",
    "    # Collect and format column names for the dataframe\n",
    "    column_html = soup.find_all('th')[:]    \n",
    "    columns = [i.contents[0].lower().replace(\"/\",\"\").replace(\" \", \"_\") for i in column_html if i.contents[0]]\n",
    "\n",
    "    # Build a dataframe\n",
    "    data = []\n",
    "    for line in rows:\n",
    "        row = line.find_all('td')\n",
    "        row_list = []\n",
    "        for counter, value in enumerate(row):\n",
    "            row_list.append(row[counter].string)\n",
    "        data.append(row_list)\n",
    "    \n",
    "    # Remove columns we don't need\n",
    "    df = pd.DataFrame(data, columns=columns).drop(columns = [\"name\", \"club\", \"mf\", \"bib\", \"total_time\"]).set_index(\"position\")\n",
    "            \n",
    "    return df\n"
   ]
  },
  {
   "cell_type": "markdown",
   "id": "a1c497dc",
   "metadata": {},
   "source": [
    "Generate a DataFrame of race results for the year 2017."
   ]
  },
  {
   "cell_type": "code",
   "execution_count": 5,
   "id": "321852e3",
   "metadata": {},
   "outputs": [
    {
     "data": {
      "text/html": [
       "<div>\n",
       "<style scoped>\n",
       "    .dataframe tbody tr th:only-of-type {\n",
       "        vertical-align: middle;\n",
       "    }\n",
       "\n",
       "    .dataframe tbody tr th {\n",
       "        vertical-align: top;\n",
       "    }\n",
       "\n",
       "    .dataframe thead th {\n",
       "        text-align: right;\n",
       "    }\n",
       "</style>\n",
       "<table border=\"1\" class=\"dataframe\">\n",
       "  <thead>\n",
       "    <tr style=\"text-align: right;\">\n",
       "      <th></th>\n",
       "      <th>start</th>\n",
       "      <th>cp1</th>\n",
       "      <th>cp2</th>\n",
       "      <th>cp3</th>\n",
       "      <th>cp4</th>\n",
       "      <th>cp5</th>\n",
       "      <th>cp6</th>\n",
       "      <th>finish</th>\n",
       "    </tr>\n",
       "    <tr>\n",
       "      <th>position</th>\n",
       "      <th></th>\n",
       "      <th></th>\n",
       "      <th></th>\n",
       "      <th></th>\n",
       "      <th></th>\n",
       "      <th></th>\n",
       "      <th></th>\n",
       "      <th></th>\n",
       "    </tr>\n",
       "  </thead>\n",
       "  <tbody>\n",
       "    <tr>\n",
       "      <th>1</th>\n",
       "      <td>08:30:00</td>\n",
       "      <td>09:58:30</td>\n",
       "      <td>11:26:51</td>\n",
       "      <td>12:58:00</td>\n",
       "      <td>14:34:00</td>\n",
       "      <td>15:41:00</td>\n",
       "      <td>17:04:49</td>\n",
       "      <td>17:54:10</td>\n",
       "    </tr>\n",
       "    <tr>\n",
       "      <th>2</th>\n",
       "      <td>08:30:00</td>\n",
       "      <td>09:56:03</td>\n",
       "      <td>11:22:10</td>\n",
       "      <td>13:20:00</td>\n",
       "      <td>15:14:00</td>\n",
       "      <td>16:31:00</td>\n",
       "      <td>18:13:51</td>\n",
       "      <td>19:09:10</td>\n",
       "    </tr>\n",
       "  </tbody>\n",
       "</table>\n",
       "</div>"
      ],
      "text/plain": [
       "             start       cp1       cp2       cp3       cp4       cp5  \\\n",
       "position                                                               \n",
       "1         08:30:00  09:58:30  11:26:51  12:58:00  14:34:00  15:41:00   \n",
       "2         08:30:00  09:56:03  11:22:10  13:20:00  15:14:00  16:31:00   \n",
       "\n",
       "               cp6    finish  \n",
       "position                      \n",
       "1         17:04:49  17:54:10  \n",
       "2         18:13:51  19:09:10  "
      ]
     },
     "execution_count": 5,
     "metadata": {},
     "output_type": "execute_result"
    }
   ],
   "source": [
    "unformatted_df = df_builder(BASE_URL, YEAR)\n",
    "unformatted_df.head(2)"
   ]
  },
  {
   "cell_type": "markdown",
   "id": "d4fe1f9f",
   "metadata": {},
   "source": [
    "Scanning the data, we notice a few things...\n",
    "\n",
    "1. The \"time\" related columns are strings representing a time of day. We'll need to convert these to datetimes so we can calculate the time (in seconds) between each checkpoint.\n",
    "\n",
    "2. There are some None values which will need to be removed. "
   ]
  },
  {
   "cell_type": "markdown",
   "id": "ef52975e",
   "metadata": {},
   "source": [
    "## 3. Calculate the time for each runner between checkpoints\n",
    "\n",
    "In the function below, we calculate the time (in seconds) it took each runner to run between checkpoints. Before we start, however, we want to remove any rows which have None values."
   ]
  },
  {
   "cell_type": "code",
   "execution_count": 6,
   "id": "2af39f90",
   "metadata": {},
   "outputs": [],
   "source": [
    "# Remove any None rows\n",
    "unformatted_df = unformatted_df.dropna().copy()"
   ]
  },
  {
   "cell_type": "markdown",
   "id": "27605c7f",
   "metadata": {},
   "source": [
    "Now onto our function..."
   ]
  },
  {
   "cell_type": "code",
   "execution_count": 7,
   "id": "5c9d2179",
   "metadata": {},
   "outputs": [],
   "source": [
    "#collapse-hide\n",
    "\n",
    "def calculate_time_to_checkpoints(df):\n",
    "    \n",
    "    \"\"\"\n",
    "    This function returns a pandas DataFrame which contains time in seconds it took each\n",
    "    runner to reach a checkpoint\n",
    "    \n",
    "    Attributes:\n",
    "    -----------\n",
    "    df (DataFrame): a dataframe of race results\n",
    "    \"\"\"\n",
    "    \n",
    "    # List out a set of columns which we'll need to convert into datimes \n",
    "    dt_cols = [\"start\", \"cp1\", \"cp2\", \"cp3\", \"cp4\", \"cp5\", \"cp6\", \"finish\"]\n",
    "    \n",
    "    # Convert these columns to datetimes\n",
    "    for col in dt_cols:\n",
    "    \n",
    "        df[col] = df[col].apply(lambda x: pd.to_datetime(\"2017-08-08 \" + str(x)))\n",
    "    \n",
    "    # Then calculate the time in seconds between each checkpoint\n",
    "    for start, end in zip(dt_cols, dt_cols[1:]):\n",
    "        \n",
    "        df[f\"time_to_{end}\"] = (df[end] - df[start]).apply(lambda x: x.seconds)\n",
    "    \n",
    "    # Finally lets drop the old 'time of day' columns\n",
    "    df = df.drop(columns=dt_cols).rename(columns={\"time_to_finish\": \"time_to_cp7\"}).copy()\n",
    "\n",
    "    return df"
   ]
  },
  {
   "cell_type": "code",
   "execution_count": 8,
   "id": "e59df026",
   "metadata": {},
   "outputs": [
    {
     "data": {
      "text/html": [
       "<div>\n",
       "<style scoped>\n",
       "    .dataframe tbody tr th:only-of-type {\n",
       "        vertical-align: middle;\n",
       "    }\n",
       "\n",
       "    .dataframe tbody tr th {\n",
       "        vertical-align: top;\n",
       "    }\n",
       "\n",
       "    .dataframe thead th {\n",
       "        text-align: right;\n",
       "    }\n",
       "</style>\n",
       "<table border=\"1\" class=\"dataframe\">\n",
       "  <thead>\n",
       "    <tr style=\"text-align: right;\">\n",
       "      <th></th>\n",
       "      <th>time_to_cp1</th>\n",
       "      <th>time_to_cp2</th>\n",
       "      <th>time_to_cp3</th>\n",
       "      <th>time_to_cp4</th>\n",
       "      <th>time_to_cp5</th>\n",
       "      <th>time_to_cp6</th>\n",
       "      <th>time_to_cp7</th>\n",
       "    </tr>\n",
       "    <tr>\n",
       "      <th>position</th>\n",
       "      <th></th>\n",
       "      <th></th>\n",
       "      <th></th>\n",
       "      <th></th>\n",
       "      <th></th>\n",
       "      <th></th>\n",
       "      <th></th>\n",
       "    </tr>\n",
       "  </thead>\n",
       "  <tbody>\n",
       "    <tr>\n",
       "      <th>1</th>\n",
       "      <td>5310</td>\n",
       "      <td>5301</td>\n",
       "      <td>5469</td>\n",
       "      <td>5760</td>\n",
       "      <td>4020</td>\n",
       "      <td>5029</td>\n",
       "      <td>2961</td>\n",
       "    </tr>\n",
       "    <tr>\n",
       "      <th>2</th>\n",
       "      <td>5163</td>\n",
       "      <td>5167</td>\n",
       "      <td>7070</td>\n",
       "      <td>6840</td>\n",
       "      <td>4620</td>\n",
       "      <td>6171</td>\n",
       "      <td>3319</td>\n",
       "    </tr>\n",
       "    <tr>\n",
       "      <th>3</th>\n",
       "      <td>6284</td>\n",
       "      <td>6382</td>\n",
       "      <td>6534</td>\n",
       "      <td>6720</td>\n",
       "      <td>4440</td>\n",
       "      <td>5869</td>\n",
       "      <td>3426</td>\n",
       "    </tr>\n",
       "  </tbody>\n",
       "</table>\n",
       "</div>"
      ],
      "text/plain": [
       "          time_to_cp1  time_to_cp2  time_to_cp3  time_to_cp4  time_to_cp5  \\\n",
       "position                                                                    \n",
       "1                5310         5301         5469         5760         4020   \n",
       "2                5163         5167         7070         6840         4620   \n",
       "3                6284         6382         6534         6720         4440   \n",
       "\n",
       "          time_to_cp6  time_to_cp7  \n",
       "position                            \n",
       "1                5029         2961  \n",
       "2                6171         3319  \n",
       "3                5869         3426  "
      ]
     },
     "execution_count": 8,
     "metadata": {},
     "output_type": "execute_result"
    }
   ],
   "source": [
    "df_time_to_cp = calculate_time_to_checkpoints(unformatted_df)\n",
    "df_time_to_cp.head(3)"
   ]
  },
  {
   "cell_type": "markdown",
   "id": "460c809e",
   "metadata": {},
   "source": [
    "## 4. Calculate the minutes per KM for each runner between checkpoints\n",
    "\n",
    "Next we calculate the minutes per km it took each runner to move between checkpoints."
   ]
  },
  {
   "cell_type": "code",
   "execution_count": 9,
   "id": "0fa4b02e",
   "metadata": {},
   "outputs": [],
   "source": [
    "#collapse-hide\n",
    "\n",
    "def calc_mins_per_km(df):\n",
    "    \n",
    "    \"\"\"\n",
    "    This function returns a pandas DataFrame which contains min per km\n",
    "    it took each runner to move between checkpoints\n",
    "    \n",
    "    Attributes:\n",
    "    -----------\n",
    "    df (DataFrame): a dataframe of race results\n",
    "    \"\"\"\n",
    "\n",
    "    df = df.copy()\n",
    "    \n",
    "    for cp_time, distance in zip(df.columns, DISTANCE_BETWEEN_CPS):\n",
    "\n",
    "        df[f\"min_per_km_{cp_time[-3:]}\"] = df[cp_time].apply(lambda x: (x / distance) / 60)\n",
    "\n",
    "        df.drop(columns=[cp_time], inplace=True)\n",
    "        \n",
    "    df.columns = CPS_IN_KM\n",
    "        \n",
    "    return df"
   ]
  },
  {
   "cell_type": "markdown",
   "id": "d3232ddc",
   "metadata": {},
   "source": [
    "The DataFrame below shows how long it took to move between each checkpoint. In this DataFrame we've also replaced the checkpoint numbers with their distances in kilometers."
   ]
  },
  {
   "cell_type": "code",
   "execution_count": 10,
   "id": "54eed013",
   "metadata": {},
   "outputs": [
    {
     "data": {
      "text/html": [
       "<div>\n",
       "<style scoped>\n",
       "    .dataframe tbody tr th:only-of-type {\n",
       "        vertical-align: middle;\n",
       "    }\n",
       "\n",
       "    .dataframe tbody tr th {\n",
       "        vertical-align: top;\n",
       "    }\n",
       "\n",
       "    .dataframe thead th {\n",
       "        text-align: right;\n",
       "    }\n",
       "</style>\n",
       "<table border=\"1\" class=\"dataframe\">\n",
       "  <thead>\n",
       "    <tr style=\"text-align: right;\">\n",
       "      <th></th>\n",
       "      <th>19.31208</th>\n",
       "      <th>37.01482</th>\n",
       "      <th>53.10822</th>\n",
       "      <th>70.81096</th>\n",
       "      <th>80.46700</th>\n",
       "      <th>94.14639</th>\n",
       "      <th>101.38842</th>\n",
       "    </tr>\n",
       "    <tr>\n",
       "      <th>position</th>\n",
       "      <th></th>\n",
       "      <th></th>\n",
       "      <th></th>\n",
       "      <th></th>\n",
       "      <th></th>\n",
       "      <th></th>\n",
       "      <th></th>\n",
       "    </tr>\n",
       "  </thead>\n",
       "  <tbody>\n",
       "    <tr>\n",
       "      <th>1</th>\n",
       "      <td>4.582643</td>\n",
       "      <td>4.990961</td>\n",
       "      <td>5.663601</td>\n",
       "      <td>5.423116</td>\n",
       "      <td>6.937972</td>\n",
       "      <td>6.127397</td>\n",
       "      <td>6.814416</td>\n",
       "    </tr>\n",
       "    <tr>\n",
       "      <th>2</th>\n",
       "      <td>4.455779</td>\n",
       "      <td>4.864799</td>\n",
       "      <td>7.321569</td>\n",
       "      <td>6.439950</td>\n",
       "      <td>7.973491</td>\n",
       "      <td>7.518824</td>\n",
       "      <td>7.638314</td>\n",
       "    </tr>\n",
       "    <tr>\n",
       "      <th>3</th>\n",
       "      <td>5.423226</td>\n",
       "      <td>6.008737</td>\n",
       "      <td>6.766497</td>\n",
       "      <td>6.326969</td>\n",
       "      <td>7.662835</td>\n",
       "      <td>7.150864</td>\n",
       "      <td>7.884562</td>\n",
       "    </tr>\n",
       "  </tbody>\n",
       "</table>\n",
       "</div>"
      ],
      "text/plain": [
       "          19.31208   37.01482   53.10822   70.81096   80.46700   94.14639   \\\n",
       "position                                                                     \n",
       "1          4.582643   4.990961   5.663601   5.423116   6.937972   6.127397   \n",
       "2          4.455779   4.864799   7.321569   6.439950   7.973491   7.518824   \n",
       "3          5.423226   6.008737   6.766497   6.326969   7.662835   7.150864   \n",
       "\n",
       "          101.38842  \n",
       "position             \n",
       "1          6.814416  \n",
       "2          7.638314  \n",
       "3          7.884562  "
      ]
     },
     "execution_count": 10,
     "metadata": {},
     "output_type": "execute_result"
    }
   ],
   "source": [
    "df_min_per_km = calc_mins_per_km(df_time_to_cp)\n",
    "df_min_per_km.head(3)"
   ]
  },
  {
   "cell_type": "markdown",
   "id": "637635fc",
   "metadata": {},
   "source": [
    "## 5. Calculate averages for three groups\n",
    "\n",
    "Then we calculate averages for three groups:\n",
    "\n",
    "1. All runners\n",
    "2. The Top 10 only\n",
    "3. Me only "
   ]
  },
  {
   "cell_type": "code",
   "execution_count": 11,
   "id": "303f05c6",
   "metadata": {},
   "outputs": [],
   "source": [
    "all_runners = pd.DataFrame(df_min_per_km.mean(), columns=[\"all_runners\"])\n",
    "top_10_runners = pd.DataFrame(df_min_per_km.head(10).mean(), columns=[\"top_10\"])\n",
    "me = pd.DataFrame(df_min_per_km.filter(items=['7'], axis=0).mean(), columns=[\"me\"])"
   ]
  },
  {
   "cell_type": "code",
   "execution_count": 12,
   "id": "5032a7d9",
   "metadata": {},
   "outputs": [
    {
     "data": {
      "text/html": [
       "<div>\n",
       "<style scoped>\n",
       "    .dataframe tbody tr th:only-of-type {\n",
       "        vertical-align: middle;\n",
       "    }\n",
       "\n",
       "    .dataframe tbody tr th {\n",
       "        vertical-align: top;\n",
       "    }\n",
       "\n",
       "    .dataframe thead th {\n",
       "        text-align: right;\n",
       "    }\n",
       "</style>\n",
       "<table border=\"1\" class=\"dataframe\">\n",
       "  <thead>\n",
       "    <tr style=\"text-align: right;\">\n",
       "      <th></th>\n",
       "      <th>all_runners</th>\n",
       "      <th>top_10</th>\n",
       "      <th>me</th>\n",
       "    </tr>\n",
       "    <tr>\n",
       "      <th>kilometer</th>\n",
       "      <th></th>\n",
       "      <th></th>\n",
       "      <th></th>\n",
       "    </tr>\n",
       "  </thead>\n",
       "  <tbody>\n",
       "    <tr>\n",
       "      <th>19.31208</th>\n",
       "      <td>6.284585</td>\n",
       "      <td>5.366094</td>\n",
       "      <td>5.670050</td>\n",
       "    </tr>\n",
       "    <tr>\n",
       "      <th>37.01482</th>\n",
       "      <td>7.424970</td>\n",
       "      <td>6.037736</td>\n",
       "      <td>6.679095</td>\n",
       "    </tr>\n",
       "    <tr>\n",
       "      <th>53.10822</th>\n",
       "      <td>7.954279</td>\n",
       "      <td>6.728595</td>\n",
       "      <td>7.162089</td>\n",
       "    </tr>\n",
       "    <tr>\n",
       "      <th>70.81096</th>\n",
       "      <td>8.467717</td>\n",
       "      <td>6.880578</td>\n",
       "      <td>7.287312</td>\n",
       "    </tr>\n",
       "    <tr>\n",
       "      <th>80.46700</th>\n",
       "      <td>11.937517</td>\n",
       "      <td>8.594802</td>\n",
       "      <td>9.009009</td>\n",
       "    </tr>\n",
       "    <tr>\n",
       "      <th>94.14639</th>\n",
       "      <td>9.395034</td>\n",
       "      <td>7.693545</td>\n",
       "      <td>7.772254</td>\n",
       "    </tr>\n",
       "    <tr>\n",
       "      <th>101.38842</th>\n",
       "      <td>9.952413</td>\n",
       "      <td>7.907806</td>\n",
       "      <td>7.764890</td>\n",
       "    </tr>\n",
       "  </tbody>\n",
       "</table>\n",
       "</div>"
      ],
      "text/plain": [
       "           all_runners    top_10        me\n",
       "kilometer                                 \n",
       "19.31208      6.284585  5.366094  5.670050\n",
       "37.01482      7.424970  6.037736  6.679095\n",
       "53.10822      7.954279  6.728595  7.162089\n",
       "70.81096      8.467717  6.880578  7.287312\n",
       "80.46700     11.937517  8.594802  9.009009\n",
       "94.14639      9.395034  7.693545  7.772254\n",
       "101.38842     9.952413  7.907806  7.764890"
      ]
     },
     "execution_count": 12,
     "metadata": {},
     "output_type": "execute_result"
    }
   ],
   "source": [
    "plots = all_runners.join(top_10_runners, lsuffix = \"_all\", rsuffix  = \"_t10\").join(me)\n",
    "plots.index.rename(\"kilometer\", inplace=True)\n",
    "plots"
   ]
  },
  {
   "cell_type": "markdown",
   "id": "7dbd8ded",
   "metadata": {},
   "source": [
    "## 6. Plot results on line chart"
   ]
  },
  {
   "cell_type": "markdown",
   "id": "0ac3bdd9",
   "metadata": {},
   "source": [
    "Looking at the results below, we can see that all three groups move in a similar pattern, slowing down substantially at 80KM, before picking up the pace for the final 20KM."
   ]
  },
  {
   "cell_type": "code",
   "execution_count": 13,
   "id": "a4af886b",
   "metadata": {},
   "outputs": [
    {
     "data": {
      "image/png": "[encoded data removed]",
      "text/plain": [
       "<Figure size 864x504 with 1 Axes>"
      ]
     },
     "metadata": {},
     "output_type": "display_data"
    }
   ],
   "source": [
    "plots.plot(y = [\"all_runners\",\"top_10\",\"me\"], figsize=(12,7))\n",
    "plt.title('Average pace of runners (minutes per km)')\n",
    "plt.ylabel('Minutes per km', fontsize=\"small\")\n",
    "plt.xlabel('Kilometers')\n",
    "plt.show()"
   ]
  }
 ],
 "metadata": {
  "kernelspec": {
   "display_name": "Python 3 (ipykernel)",
   "language": "python",
   "name": "python3"
  },
  "language_info": {
   "codemirror_mode": {
    "name": "ipython",
    "version": 3
   },
   "file_extension": ".py",
   "mimetype": "text/x-python",
   "name": "python",
   "nbconvert_exporter": "python",
   "pygments_lexer": "ipython3",
   "version": "3.10.0"
  }
 },
 "nbformat": 4,
 "nbformat_minor": 5
}
