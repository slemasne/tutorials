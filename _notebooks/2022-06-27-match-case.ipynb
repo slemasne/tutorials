{
 "cells": [
  {
   "cell_type": "markdown",
   "id": "4ed0e24d",
   "metadata": {},
   "source": [
    "# Tutorial - Testing the match case statements\n",
    "\n",
    "In this tutorial, we'll take a look at the new `match-case` statement released in Python 3.10. \n",
    "\n",
    "We'll look at:\n",
    "\n",
    "1. What is the match-case statement?\n",
    "2. What features does it have?\n",
    "3. Why would you use match-case over an if-else statement?"
   ]
  },
  {
   "cell_type": "markdown",
   "id": "524f8857",
   "metadata": {},
   "source": [
    "## 1. What is the match-case statement? \n",
    "\n",
    "On the surface it looks very simliar to an if-else statement. You provide some conditions, and the statement retuns a value if those conditions are met. For example, here we have a `match-case` to match the London TFL tube to that line's official colour. "
   ]
  },
  {
   "cell_type": "code",
   "execution_count": 1,
   "id": "0702d7eb",
   "metadata": {},
   "outputs": [],
   "source": [
    "def find_tube(tube_line_colour):\n",
    "    \n",
    "    match tube_line_colour:\n",
    "        case \"black\":\n",
    "            return \"northern\"\n",
    "        case \"red\" | \"orange\":\n",
    "            return \"central\"\n",
    "        case _:\n",
    "            return \"unknown\""
   ]
  },
  {
   "cell_type": "code",
   "execution_count": 4,
   "id": "5b68b394",
   "metadata": {},
   "outputs": [
    {
     "data": {
      "text/plain": [
       "'central'"
      ]
     },
     "metadata": {},
     "output_type": "display_data"
    },
    {
     "data": {
      "text/plain": [
       "'unknown'"
      ]
     },
     "metadata": {},
     "output_type": "display_data"
    }
   ],
   "source": [
    "display(find_tube(\"red\"))\n",
    "display(find_tube(\"darkgreen\"))"
   ]
  },
  {
   "cell_type": "markdown",
   "id": "42e04775",
   "metadata": {},
   "source": [
    "We could also implement the same logic using an `if-else` statement:"
   ]
  },
  {
   "cell_type": "code",
   "execution_count": 5,
   "id": "327b444c",
   "metadata": {},
   "outputs": [],
   "source": [
    "def find_tube(tube_line_colour):\n",
    "    \n",
    "    if tube_line_colour == \"black\":\n",
    "        return \"northern\"\n",
    "    \n",
    "    elif tube_line_colour == \"red\" or tube_line_colour == \"orange\":\n",
    "        return \"central\"\n",
    "    \n",
    "    else:\n",
    "        return \"unknown\""
   ]
  },
  {
   "cell_type": "code",
   "execution_count": 6,
   "id": "1794d0ee",
   "metadata": {},
   "outputs": [
    {
     "data": {
      "text/plain": [
       "'central'"
      ]
     },
     "metadata": {},
     "output_type": "display_data"
    },
    {
     "data": {
      "text/plain": [
       "'unknown'"
      ]
     },
     "metadata": {},
     "output_type": "display_data"
    }
   ],
   "source": [
    "display(find_tube(\"red\"))\n",
    "display(find_tube(\"darkgreen\"))"
   ]
  },
  {
   "cell_type": "markdown",
   "id": "c9725278",
   "metadata": {},
   "source": [
    "## 2. What features does it have?"
   ]
  },
  {
   "cell_type": "code",
   "execution_count": null,
   "id": "65fe8481",
   "metadata": {},
   "outputs": [],
   "source": []
  }
 ],
 "metadata": {
  "kernelspec": {
   "display_name": "Python 3 (ipykernel)",
   "language": "python",
   "name": "python3"
  },
  "language_info": {
   "codemirror_mode": {
    "name": "ipython",
    "version": 3
   },
   "file_extension": ".py",
   "mimetype": "text/x-python",
   "name": "python",
   "nbconvert_exporter": "python",
   "pygments_lexer": "ipython3",
   "version": "3.10.0"
  }
 },
 "nbformat": 4,
 "nbformat_minor": 5
}
