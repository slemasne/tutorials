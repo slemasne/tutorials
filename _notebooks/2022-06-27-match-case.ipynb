{
 "cells": [
  {
   "cell_type": "code",
   "execution_count": 15,
   "id": "0702d7eb",
   "metadata": {},
   "outputs": [],
   "source": [
    "def find_tube(tube_line_colour):\n",
    "    \n",
    "    match tube_line_colour:\n",
    "        case \"black\":\n",
    "            return \"northern\"\n",
    "        case \"red\" | \"orange\":\n",
    "            return \"central\"\n",
    "        case _:\n",
    "            return \"unknown\""
   ]
  },
  {
   "cell_type": "code",
   "execution_count": 16,
   "id": "5b68b394",
   "metadata": {},
   "outputs": [
    {
     "data": {
      "text/plain": [
       "'central'"
      ]
     },
     "execution_count": 16,
     "metadata": {},
     "output_type": "execute_result"
    }
   ],
   "source": [
    "find_tube(\"red\")"
   ]
  },
  {
   "cell_type": "code",
   "execution_count": 17,
   "id": "327b444c",
   "metadata": {},
   "outputs": [],
   "source": [
    "def find_tube(tube_line_colour):\n",
    "    \n",
    "    if tube_line_colour == \"black\":\n",
    "        return \"northern\"\n",
    "    \n",
    "    elif tube_line_colour == \"red\":\n",
    "        return \"central\"\n",
    "    \n",
    "    else:\n",
    "        return \"unknown\""
   ]
  },
  {
   "cell_type": "code",
   "execution_count": 18,
   "id": "1794d0ee",
   "metadata": {},
   "outputs": [
    {
     "data": {
      "text/plain": [
       "'unknown'"
      ]
     },
     "execution_count": 18,
     "metadata": {},
     "output_type": "execute_result"
    }
   ],
   "source": [
    "find_tube(\"orange\")"
   ]
  },
  {
   "cell_type": "code",
   "execution_count": null,
   "id": "790d1978",
   "metadata": {},
   "outputs": [],
   "source": []
  }
 ],
 "metadata": {
  "kernelspec": {
   "display_name": "Python 3 (ipykernel)",
   "language": "python",
   "name": "python3"
  },
  "language_info": {
   "codemirror_mode": {
    "name": "ipython",
    "version": 3
   },
   "file_extension": ".py",
   "mimetype": "text/x-python",
   "name": "python",
   "nbconvert_exporter": "python",
   "pygments_lexer": "ipython3",
   "version": "3.10.0"
  }
 },
 "nbformat": 4,
 "nbformat_minor": 5
}
