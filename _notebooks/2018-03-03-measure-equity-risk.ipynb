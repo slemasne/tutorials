{
 "cells": [
  {
   "cell_type": "markdown",
   "id": "bcdeba58",
   "metadata": {},
   "source": [
    "# Measuring Equity Risk\n",
    "\n",
    "> TBC\n",
    "\n",
    "- toc: false\n",
    "- badges: true\n",
    "- hide: true\n",
    "- author: Stephen Lemasney"
   ]
  },
  {
   "cell_type": "markdown",
   "id": "948c2b4a",
   "metadata": {},
   "source": [
    "In this notebook we'll explore two statistical methods for calculating Equity Risk:\n",
    "\n",
    "1. Variance: fluctuation of stock return from its mean\n",
    "2. VaR: the maximum an investor could loose (within a confidence interval)\n",
    "\n",
    "For the purposes of this notebook, we'll explore the above looking at the risk of Apple (ticker = AAPL)."
   ]
  },
  {
   "cell_type": "markdown",
   "id": "b591297c",
   "metadata": {},
   "source": [
    "## Import packages and setup configurations"
   ]
  },
  {
   "cell_type": "code",
   "execution_count": 7,
   "id": "7c4d8eda",
   "metadata": {},
   "outputs": [
    {
     "name": "stdout",
     "output_type": "stream",
     "text": [
      "Populating the interactive namespace from numpy and matplotlib\n"
     ]
    }
   ],
   "source": [
    "# Import all the required packages\n",
    "import pandas as pd\n",
    "import quandl\n",
    "import datetime\n",
    "import matplotlib.pyplot as plt\n",
    "import seaborn as sns\n",
    "import os\n",
    "from sklearn import linear_model\n",
    "plt.style.use('fivethirtyeight')\n",
    "from statsmodels.formula.api import ols\n",
    "\n",
    "# Use Python's \"magic\" commands since we want to see the graphs within this notebook\n",
    "%matplotlib inline\n",
    "%pylab inline\n",
    "pylab.rcParams[\"figure.figsize\"] = (8,6)"
   ]
  },
  {
   "cell_type": "code",
   "execution_count": null,
   "id": "6b8523b7",
   "metadata": {},
   "outputs": [],
   "source": [
    "directory = os.getcwd() + \"/data/\" # CSV file contained within local directory"
   ]
  }
 ],
 "metadata": {
  "kernelspec": {
   "display_name": "Python 3 (ipykernel)",
   "language": "python",
   "name": "python3"
  },
  "language_info": {
   "codemirror_mode": {
    "name": "ipython",
    "version": 3
   },
   "file_extension": ".py",
   "mimetype": "text/x-python",
   "name": "python",
   "nbconvert_exporter": "python",
   "pygments_lexer": "ipython3",
   "version": "3.10.0"
  }
 },
 "nbformat": 4,
 "nbformat_minor": 5
}
