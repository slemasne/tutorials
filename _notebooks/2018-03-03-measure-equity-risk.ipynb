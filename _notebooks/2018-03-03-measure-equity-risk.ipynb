{
 "cells": [
  {
   "cell_type": "markdown",
   "id": "bcdeba58",
   "metadata": {},
   "source": [
    "# Measuring Equity Risk\n",
    "\n",
    "> TBC\n",
    "\n",
    "- toc: true\n",
    "- badges: true\n",
    "- hide: false\n",
    "- author: Stephen Lemasney"
   ]
  },
  {
   "cell_type": "markdown",
   "id": "948c2b4a",
   "metadata": {},
   "source": [
    "In this notebook we'll explore two statistical methods for calculating Equity Risk:\n",
    "\n",
    "1. Variance: fluctuation of stock return from its mean\n",
    "2. VaR: the maximum an investor could loose (within a confidence interval)\n",
    "\n",
    "For the purposes of this notebook, we'll explore the above looking at the risk of Apple (ticker = AAPL)."
   ]
  },
  {
   "cell_type": "markdown",
   "id": "b591297c",
   "metadata": {},
   "source": [
    "## Import packages and setup configurations"
   ]
  },
  {
   "cell_type": "code",
   "execution_count": 1,
   "id": "7c4d8eda",
   "metadata": {},
   "outputs": [
    {
     "name": "stdout",
     "output_type": "stream",
     "text": [
      "Populating the interactive namespace from numpy and matplotlib\n"
     ]
    }
   ],
   "source": [
    "# Import all the required packages\n",
    "import requests\n",
    "import json\n",
    "import datetime\n",
    "import os\n",
    "\n",
    "# Import data wrangling packages\n",
    "import pandas as pd\n",
    "import matplotlib.pyplot as plt\n",
    "import seaborn as sns\n",
    "\n",
    "# Use Python's \"magic\" commands since we want to see the graphs within this notebook\n",
    "%matplotlib inline\n",
    "%pylab inline\n",
    "\n",
    "# Plot configuration\n",
    "plt.style.use('fivethirtyeight')\n",
    "pylab.rcParams[\"figure.figsize\"] = (10,8)"
   ]
  },
  {
   "cell_type": "code",
   "execution_count": 2,
   "id": "e2aaacb0",
   "metadata": {},
   "outputs": [],
   "source": [
    "API_KEY = os.getenv(\"AV_API_KEY\")"
   ]
  },
  {
   "cell_type": "markdown",
   "id": "08252b21",
   "metadata": {},
   "source": [
    "## Collect prices from the stock price API"
   ]
  },
  {
   "cell_type": "code",
   "execution_count": 3,
   "id": "c0ddf04e",
   "metadata": {},
   "outputs": [],
   "source": [
    "def get_adj_prices(symbol):\n",
    "    \n",
    "    url = f\"https://www.alphavantage.co/query?function=TIME_SERIES_WEEKLY_ADJUSTED&symbol={symbol}&apikey={API_KEY}\"\n",
    "    \n",
    "    raw_data = requests.get(url).text\n",
    "        \n",
    "    json_data = json.loads(raw_data)[\"Weekly Adjusted Time Series\"]\n",
    "    \n",
    "    return json_data"
   ]
  },
  {
   "cell_type": "markdown",
   "id": "36834b8d",
   "metadata": {},
   "source": [
    "## Build a dataframe from the stock prices"
   ]
  },
  {
   "cell_type": "code",
   "execution_count": 4,
   "id": "a19ee241",
   "metadata": {},
   "outputs": [],
   "source": [
    "def build_stock_df(symbol):\n",
    "    \n",
    "    json_data = get_adj_prices(symbol)\n",
    "    \n",
    "    df = pd.DataFrame.from_dict(json_data).transpose()\n",
    "    \n",
    "    adj_col = \"5. adjusted close\"\n",
    "    \n",
    "    df =  df[[adj_col]].rename(columns={adj_col: f\"price_{symbol}\"})\n",
    "    \n",
    "    return df"
   ]
  },
  {
   "cell_type": "code",
   "execution_count": 5,
   "id": "d431bf66",
   "metadata": {},
   "outputs": [],
   "source": [
    "aapl = build_stock_df(\"aapl\").head(1000)\n",
    "spy = build_stock_df(\"spy\").head(1000)\n",
    "ts_df = aapl.join(spy).astype(float)"
   ]
  },
  {
   "cell_type": "code",
   "execution_count": 6,
   "id": "68c2a40b",
   "metadata": {},
   "outputs": [],
   "source": [
    "ts_df[\"aapl_returns\"] = ts_df[\"price_aapl\"].pct_change(1)\n",
    "ts_df[\"spy_returns\"] = ts_df[\"price_spy\"].pct_change(1)"
   ]
  },
  {
   "cell_type": "code",
   "execution_count": 7,
   "id": "5c796836",
   "metadata": {},
   "outputs": [
    {
     "data": {
      "text/html": [
       "<div>\n",
       "<style scoped>\n",
       "    .dataframe tbody tr th:only-of-type {\n",
       "        vertical-align: middle;\n",
       "    }\n",
       "\n",
       "    .dataframe tbody tr th {\n",
       "        vertical-align: top;\n",
       "    }\n",
       "\n",
       "    .dataframe thead th {\n",
       "        text-align: right;\n",
       "    }\n",
       "</style>\n",
       "<table border=\"1\" class=\"dataframe\">\n",
       "  <thead>\n",
       "    <tr style=\"text-align: right;\">\n",
       "      <th></th>\n",
       "      <th>price_aapl</th>\n",
       "      <th>price_spy</th>\n",
       "      <th>aapl_returns</th>\n",
       "      <th>spy_returns</th>\n",
       "    </tr>\n",
       "  </thead>\n",
       "  <tbody>\n",
       "    <tr>\n",
       "      <th>2022-09-14</th>\n",
       "      <td>155.31</td>\n",
       "      <td>394.60</td>\n",
       "      <td>NaN</td>\n",
       "      <td>NaN</td>\n",
       "    </tr>\n",
       "    <tr>\n",
       "      <th>2022-09-09</th>\n",
       "      <td>157.37</td>\n",
       "      <td>406.60</td>\n",
       "      <td>0.013264</td>\n",
       "      <td>0.030411</td>\n",
       "    </tr>\n",
       "    <tr>\n",
       "      <th>2022-09-02</th>\n",
       "      <td>155.81</td>\n",
       "      <td>392.24</td>\n",
       "      <td>-0.009913</td>\n",
       "      <td>-0.035317</td>\n",
       "    </tr>\n",
       "    <tr>\n",
       "      <th>2022-08-26</th>\n",
       "      <td>163.62</td>\n",
       "      <td>405.31</td>\n",
       "      <td>0.050125</td>\n",
       "      <td>0.033321</td>\n",
       "    </tr>\n",
       "    <tr>\n",
       "      <th>2022-08-19</th>\n",
       "      <td>171.52</td>\n",
       "      <td>422.14</td>\n",
       "      <td>0.048283</td>\n",
       "      <td>0.041524</td>\n",
       "    </tr>\n",
       "  </tbody>\n",
       "</table>\n",
       "</div>"
      ],
      "text/plain": [
       "            price_aapl  price_spy  aapl_returns  spy_returns\n",
       "2022-09-14      155.31     394.60           NaN          NaN\n",
       "2022-09-09      157.37     406.60      0.013264     0.030411\n",
       "2022-09-02      155.81     392.24     -0.009913    -0.035317\n",
       "2022-08-26      163.62     405.31      0.050125     0.033321\n",
       "2022-08-19      171.52     422.14      0.048283     0.041524"
      ]
     },
     "execution_count": 7,
     "metadata": {},
     "output_type": "execute_result"
    }
   ],
   "source": [
    "ts_df.head(5)"
   ]
  },
  {
   "cell_type": "markdown",
   "id": "90953aec",
   "metadata": {},
   "source": [
    "## Calculate stock variance\n",
    "\n",
    "First, lets check the summary statistics for both AAPL and the S&P Index. We can also plot the returns as a histogram to get an idea of dispersion of returns."
   ]
  },
  {
   "cell_type": "code",
   "execution_count": 8,
   "id": "7069585c",
   "metadata": {},
   "outputs": [
    {
     "data": {
      "text/plain": [
       "count    999.000000\n",
       "mean      -0.005106\n",
       "std        0.045935\n",
       "min       -0.165550\n",
       "25%       -0.032927\n",
       "50%       -0.007687\n",
       "75%        0.020599\n",
       "max        0.321114\n",
       "Name: aapl_returns, dtype: float64"
      ]
     },
     "execution_count": 8,
     "metadata": {},
     "output_type": "execute_result"
    }
   ],
   "source": [
    "# Here we can see AAPL has a mean return of around 0.11% with standard deviation 1.4%\n",
    "# The minimum return was -6.5% and the max 8.2%\n",
    "\n",
    "aapl_summary = ts_df[\"aapl_returns\"].describe()\n",
    "aapl_summary"
   ]
  },
  {
   "cell_type": "code",
   "execution_count": 9,
   "id": "764eadd1",
   "metadata": {},
   "outputs": [
    {
     "data": {
      "text/plain": [
       "<AxesSubplot:>"
      ]
     },
     "execution_count": 9,
     "metadata": {},
     "output_type": "execute_result"
    },
    {
     "data": {
      "image/png": "[encoded data removed]",
      "text/plain": [
       "<Figure size 576x432 with 1 Axes>"
      ]
     },
     "metadata": {},
     "output_type": "display_data"
    }
   ],
   "source": [
    "ts_df[\"aapl_returns\"].hist(bins=50, figsize=(8,6))"
   ]
  },
  {
   "cell_type": "code",
   "execution_count": 10,
   "id": "555ad751",
   "metadata": {},
   "outputs": [
    {
     "name": "stdout",
     "output_type": "stream",
     "text": [
      "The max value for aapl was recorded on 2008-09-26 while the min value was recorded on 2006-07-14\n"
     ]
    }
   ],
   "source": [
    "# There are some outliers\n",
    "# Lets check on what date AAPL had a min and max return\n",
    "\n",
    "max_date = ts_df.loc[ts_df['aapl_returns'].idxmax()].name\n",
    "min_date = ts_df.loc[ts_df['aapl_returns'].idxmin()].name\n",
    "\n",
    "print (\"The max value for aapl was recorded on {} while the min value was recorded on {}\".format(max_date, min_date))"
   ]
  },
  {
   "cell_type": "code",
   "execution_count": 11,
   "id": "f96240e4",
   "metadata": {},
   "outputs": [
    {
     "data": {
      "text/plain": [
       "count    999.000000\n",
       "mean      -0.001434\n",
       "std        0.024947\n",
       "min       -0.117327\n",
       "25%       -0.014145\n",
       "50%       -0.003155\n",
       "75%        0.008836\n",
       "max        0.246780\n",
       "Name: spy_returns, dtype: float64"
      ]
     },
     "execution_count": 11,
     "metadata": {},
     "output_type": "execute_result"
    }
   ],
   "source": [
    "# Now, lets do the same for the S&P returns, and plot them side by side\n",
    "\n",
    "snp_summary = ts_df[\"spy_returns\"].describe()\n",
    "snp_summary "
   ]
  },
  {
   "cell_type": "markdown",
   "id": "bbe3c091",
   "metadata": {},
   "source": [
    "## Plot the returns distributions"
   ]
  },
  {
   "cell_type": "code",
   "execution_count": 12,
   "id": "d9390b11",
   "metadata": {},
   "outputs": [
    {
     "data": {
      "image/png": "[encoded data removed]",
      "text/plain": [
       "<Figure size 720x576 with 1 Axes>"
      ]
     },
     "metadata": {},
     "output_type": "display_data"
    }
   ],
   "source": [
    "#collapse-hide\n",
    "\n",
    "style.use('fivethirtyeight')\n",
    "\n",
    "x = ts_df[\"spy_returns\"] * 100\n",
    "y = ts_df[\"aapl_returns\"] * 100\n",
    "\n",
    "plt.hist(x, alpha = 0.5, bins=50, label='S&P 500')\n",
    "plt.hist(y,alpha = 0.5, bins = 50, label='Apple Inc.')\n",
    "plt.legend(loc='upper right')\n",
    "plt.tick_params(axis = 'both', which = 'major', labelsize = 9)\n",
    "plt.axhline(y = 0, color = 'black', linewidth = 5, alpha = 1)\n",
    "#plt.xlabel(s = \"% return\", fontsize = \"small\")\n",
    "\n",
    "plt.text(-15, 180, s = \"\"\"This grap plots the distribution of weeklyreturns of Apple Inc. against \n",
    "returns of the S&P 500 between 2003-07-25 and today. \n",
    "The histogram for Apple Inc. is more dispersed, with more extreme \n",
    "highs and lows. During this period, Apple Inc. had a high of 32%\n",
    "and a low of -16%.\"\"\", fontsize = 15, alpha = .75)\n",
    "\n",
    "plt.text(-15, 215, s = \"\"\"Plotting return distributions\"\"\", weight = \"bold\", fontsize = 25, alpha = .75)\n",
    "plt.show()"
   ]
  },
  {
   "cell_type": "markdown",
   "id": "1297b7ee",
   "metadata": {},
   "source": [
    "## Value at Risk (VaR)\n",
    "In this section we'll check the VaR numbers for both AAPL and the S&P500. The VaR tell us that we have X % chance of not loosing more than a nominal value in one day."
   ]
  },
  {
   "cell_type": "code",
   "execution_count": 13,
   "id": "8403a9e1",
   "metadata": {},
   "outputs": [],
   "source": [
    "#collapse-hide\n",
    "\n",
    "def var_cov_var(P, c, m, sigma):\n",
    "    \"\"\"\n",
    "    Variance-Covariance calculation of weekly Value-at-Risk\n",
    "    using confidence level c, with mean of returns m\n",
    "    and standard deviation of returns sigma, on a portfolio\n",
    "    of value P.\n",
    "    \"\"\"\n",
    "    alpha = norm.ppf(1-c, m, sigma)\n",
    "    \n",
    "    return P - P*(alpha + 1)"
   ]
  },
  {
   "cell_type": "code",
   "execution_count": 14,
   "id": "e873046d",
   "metadata": {},
   "outputs": [
    {
     "name": "stdout",
     "output_type": "stream",
     "text": [
      "The one week VaR for Apple on a $1 million portfolio is $111,966.53\n",
      "The one week VaR for the S&P 500 on a $1 million portfolio is $59,469.59\n"
     ]
    }
   ],
   "source": [
    "from scipy.stats import norm\n",
    "\n",
    "P = 1000000   # 1,000,000 USD\n",
    "c = 0.99  # 99% confidence interval\n",
    "\n",
    "aapl_mean = ts_df[\"aapl_returns\"].mean()\n",
    "aapl_sigma = ts_df[\"aapl_returns\"].std()\n",
    "\n",
    "snp_mean = ts_df[\"spy_returns\"].mean()\n",
    "snp_sigma = ts_df[\"spy_returns\"].std()\n",
    "\n",
    "var_aapl = var_cov_var(P, c, aapl_mean, aapl_sigma)\n",
    "var_snp = var_cov_var(P, c, snp_mean, snp_sigma)\n",
    "\n",
    "print (\"The one week VaR for Apple on a $1 million portfolio is ${:,.2f}\".format(round(var_aapl,2)))\n",
    "print (\"The one week VaR for the S&P 500 on a $1 million portfolio is ${:,.2f}\".format(round(var_snp,2)))"
   ]
  }
 ],
 "metadata": {
  "kernelspec": {
   "display_name": "Python 3 (ipykernel)",
   "language": "python",
   "name": "python3"
  },
  "language_info": {
   "codemirror_mode": {
    "name": "ipython",
    "version": 3
   },
   "file_extension": ".py",
   "mimetype": "text/x-python",
   "name": "python",
   "nbconvert_exporter": "python",
   "pygments_lexer": "ipython3",
   "version": "3.10.0"
  }
 },
 "nbformat": 4,
 "nbformat_minor": 5
}
