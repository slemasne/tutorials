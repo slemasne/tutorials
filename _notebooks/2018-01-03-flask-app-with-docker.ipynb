{
 "cells": [
  {
   "cell_type": "markdown",
   "id": "bcdeba58",
   "metadata": {},
   "source": [
    "# Deploying a Python app - Part 1 (Docker)\n",
    "\n",
    "- toc: true\n",
    "- hide: false\n",
    "- author: Stephen Lemasney\n",
    "- sticky_rank: 3"
   ]
  },
  {
   "cell_type": "markdown",
   "id": "948c2b4a",
   "metadata": {},
   "source": [
    "In this tutorial, we show how you can build and deploy a really simple Python app using Docker. To demonstrate, we'll create an API to return details of the TFL train lines in London. We'll use [Flask](https://flask.palletsprojects.com/en/2.2.x/) to build the application."
   ]
  },
  {
   "cell_type": "markdown",
   "id": "6d792ce0",
   "metadata": {},
   "source": [
    "\n",
    "## Create a Flask app\n",
    "\n",
    "First, create a python flask app which returns details about the TFL trains. This application serves a very basic API with details on London's TFL trains."
   ]
  },
  {
   "cell_type": "code",
   "execution_count": null,
   "id": "7d155e6b",
   "metadata": {},
   "outputs": [],
   "source": [
    "#collapse-hide\n",
    "\n",
    "from flask import Flask, jsonify, request\n",
    "import sys\n",
    "import logging\n",
    "\n",
    "logging.basicConfig(level=logging.INFO)\n",
    "\n",
    "app = Flask(__name__)\n",
    "\n",
    "tasks = [\n",
    "    {\n",
    "        'id': 1,\n",
    "        'service': 'tube',\n",
    "        'line': 'northern',\n",
    "        'colour': 'black'\n",
    "    },\n",
    "    {\n",
    "        'id': 2,\n",
    "        'service': 'tube',\n",
    "        'line': 'circle',\n",
    "        'colour': 'red'\n",
    "    }\n",
    "]\n",
    "\n",
    "def shutdown_server():\n",
    "    func = request.environ.get('werkzeug.server.shutdown')\n",
    "    if func is None:\n",
    "        raise RuntimeError('Not running with the Werkzeug Server')\n",
    "    func()\n",
    "\n",
    "@app.route('/trains', methods=['GET'])\n",
    "def get_tasks():\n",
    "    return jsonify({'tasks': tasks})\n",
    "\n",
    "@app.route('/')\n",
    "def hello_world():\n",
    "    return 'Welcome to trains API'\n",
    "\n",
    "@app.route('/exit')\n",
    "def exit():\n",
    "    message = logging.info(\"Stopping application\")\n",
    "    shutdown_server()\n",
    "    print(\"The Flask server has been shutdown.\")\n",
    "\n",
    "if __name__ == '__main__':\n",
    "    app.run(debug=True, host='0.0.0.0')\n"
   ]
  },
  {
   "cell_type": "markdown",
   "id": "d3de41ea",
   "metadata": {},
   "source": [
    "## Run a quick 'hello world' type test"
   ]
  },
  {
   "cell_type": "code",
   "execution_count": 5,
   "id": "e080efec",
   "metadata": {},
   "outputs": [
    {
     "data": {
      "text/plain": [
       "200"
      ]
     },
     "metadata": {},
     "output_type": "display_data"
    },
    {
     "data": {
      "text/plain": [
       "'Welcome to trains API'"
      ]
     },
     "metadata": {},
     "output_type": "display_data"
    }
   ],
   "source": [
    "import requests\n",
    "\n",
    "url = \"http://192.168.1.74:5000/\"\n",
    "\n",
    "response = requests.get(url)\n",
    "response_code = response.status_code\n",
    "response_text = requests.get(url).text\n",
    "\n",
    "display(response_code)\n",
    "display(response_text)\n"
   ]
  },
  {
   "cell_type": "markdown",
   "id": "ad4d9c89",
   "metadata": {},
   "source": [
    "## Setup the Dockerfile"
   ]
  },
  {
   "cell_type": "markdown",
   "id": "13569692",
   "metadata": {},
   "source": [
    "Next, we want to package the application into a container using a `Dockerfile`. The finished `Dockerfile` will look as follows:\n",
    "\n",
    "```Dockerfile\n",
    "FROM python:3.7-alpine\n",
    "\n",
    "COPY . /app\n",
    "\n",
    "WORKDIR /app\n",
    "\n",
    "RUN pip install -r requirements.txt\n",
    "\n",
    "EXPOSE 5000\n",
    "\n",
    "CMD [\"python\", \"app.py\"]\n",
    "```"
   ]
  },
  {
   "cell_type": "markdown",
   "id": "e53c15de",
   "metadata": {},
   "source": [
    "## Deconstruct the Dockerfile\n",
    "\n",
    "Let's break down each line in turn to describe what is happening...\n",
    "\n",
    "In the first line we declare a <b>parent image</b> which is the image our own image is based on. Each subsequent declaration in the `Dockerfile` modifies this image. In our example, we use a version of Alpine Linux as our base image. Alpine Linux is a lightweight Linux distribution which makes it ideal for our container. \n",
    "\n",
    "```Dockerfile\n",
    "FROM python:3.7-alpine\n",
    "```\n",
    "\n",
    "Next we copy all of the files from the current host directory into the container's app directory. \n",
    "\n",
    "```Dockerfile\n",
    "COPY . /app\n",
    "```\n",
    "\n",
    "We change our working directory to the app directory. And then we tell Docker to install the Python packages needed for the `app.py`\n",
    "\n",
    "```Dockerfile\n",
    "WORKDIR /app\n",
    "\n",
    "RUN pip install -r requirements.txt\n",
    "```\n",
    "\n",
    "Next we tell the container to listen on a specific network port at runtime. The default is TCP but you can also specify UDP. Note that the EXPOSE instruction does not actually publish the port. This instruction is there for documentation purposes. To actually publish the port, you need to use the `-p` flag on the `docker run` command.\n",
    "\n",
    "```Dockerfile\n",
    "EXPOSE 5000\n",
    "```\n",
    "\n",
    "Finally, we run the app:\n",
    "\n",
    "```Dockerfile\n",
    "CMD [\"python\", \"app.py\"]\n",
    "```"
   ]
  },
  {
   "cell_type": "markdown",
   "id": "c2c5d4e0",
   "metadata": {},
   "source": [
    "## Run the docker container locally\n",
    "\n",
    "You might want to run the Dockerfile on your own machine to verify that it is working correctly. To do that, we `docker build` and then `docker run`:\n",
    "\n",
    "You can build the Dockerfile as follows. The `-t` or `tag` allows you to tag the image with a name.\n",
    "\n",
    "`docker build -t slemasne/trains .`\n",
    "\n",
    "Then run the image to create a container which runs our application. The '-p' flag maps port 5000 on localhost in the host to port 5000 in the docker container. \n",
    "\n",
    "`docker run -p 5000:5000 slemasne/trains`\n",
    "\n",
    "You can also run the command with a '-d' detached flag to run the container in the background:\n",
    "\n",
    "`docker run -d -p 5000:5000 slemasne/trains`\n",
    "\n",
    "The application can be accessed on our localhost:\n",
    "\n",
    "`http://localhost:5000/trains`\n"
   ]
  }
 ],
 "metadata": {
  "kernelspec": {
   "display_name": "Python 3 (ipykernel)",
   "language": "python",
   "name": "python3"
  },
  "language_info": {
   "codemirror_mode": {
    "name": "ipython",
    "version": 3
   },
   "file_extension": ".py",
   "mimetype": "text/x-python",
   "name": "python",
   "nbconvert_exporter": "python",
   "pygments_lexer": "ipython3",
   "version": "3.10.0"
  }
 },
 "nbformat": 4,
 "nbformat_minor": 5
}
