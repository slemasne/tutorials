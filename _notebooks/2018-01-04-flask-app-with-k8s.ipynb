{
 "cells": [
  {
   "cell_type": "markdown",
   "id": "bcdeba58",
   "metadata": {},
   "source": [
    "# Deploying a Python app - Part 2 (Kubernetes)\n",
    "\n",
    "- toc: true\n",
    "- hide: false\n",
    "- author: Stephen Lemasney\n",
    "- sticky_rank: 4"
   ]
  },
  {
   "cell_type": "markdown",
   "id": "948c2b4a",
   "metadata": {},
   "source": [
    "In Part 1 of this tutorial, we deployed a simple Flask app using docker. In this part, we'll deploy that same app using Kubernetes."
   ]
  },
  {
   "cell_type": "markdown",
   "id": "4d6b4c8e",
   "metadata": {},
   "source": [
    "## Create Kubernetes configuration\n",
    "\n",
    "For the Kubernetes deployment, we'll need to create a deployment for managing pods/containers.\n",
    "\n",
    "We create the deployment using a YAML file.\n",
    "\n",
    "`trains-deployment.yaml`"
   ]
  },
  {
   "cell_type": "markdown",
   "id": "613dadf8",
   "metadata": {},
   "source": [
    "```yaml\n",
    "apiVersion: apps/v1\n",
    "kind: Deployment\n",
    "metadata:\n",
    "  name: trains\n",
    "spec:\n",
    "  selector:\n",
    "    matchLabels:\n",
    "      app: trains\n",
    "  replicas: 2\n",
    "  template:\n",
    "    metadata:\n",
    "      labels:\n",
    "        app: trains\n",
    "    spec:\n",
    "      containers:\n",
    "      - name: trains\n",
    "        image: slemasne/trains:latest\n",
    "        resources:\n",
    "          limits:\n",
    "            memory: \"100Mi\"\n",
    "          requests:\n",
    "            memory: \"50Mi\"\n",
    "        ports:\n",
    "        - containerPort: 5000\n",
    "```"
   ]
  },
  {
   "cell_type": "markdown",
   "id": "0120ee94",
   "metadata": {},
   "source": [
    "## Check that the pods are running\n",
    "\n",
    "We can see that two pods are running using the following command:\n",
    "    \n",
    "```bash\n",
    "$ kubectl get pods\n",
    "\n",
    "NAME                      READY   STATUS    RESTARTS   AGE\n",
    "trains-758d4f498c-kbs9k   1/1     Running   0          6m19s\n",
    "trains-758d4f498c-kfbpq   1/1     Running   1          6m19s\n",
    "```\n",
    "\n"
   ]
  },
  {
   "cell_type": "markdown",
   "id": "f2dbbee4",
   "metadata": {},
   "source": [
    "## Run port forward\n",
    "\n",
    "Next we run a port-forward command so we can connect to the cluster from our local machine. "
   ]
  },
  {
   "cell_type": "markdown",
   "id": "807f1dd7",
   "metadata": {},
   "source": [
    "```bash\n",
    "kubectl port-forward deployment/trains 5000:5000\n",
    "```"
   ]
  },
  {
   "cell_type": "markdown",
   "id": "e312ee53",
   "metadata": {},
   "source": [
    "We check the pod is online by running a curl command.\n",
    "    \n",
    "```bash\n",
    "$ curl -I http://127.0.0.1:5000/\n",
    "```\n",
    "\n",
    "This command returns a status code of 200:\n",
    "\n",
    "```\n",
    "HTTP/1.0 200 OK\n",
    "Content-Type: text/html; charset=utf-8\n",
    "Content-Length: 21\n",
    "Server: Werkzeug/1.0.1 Python/3.7.9\n",
    "Date: Wed, 14 Sep 2022 18:01:56 GMT\n",
    "```\n",
    "\n"
   ]
  }
 ],
 "metadata": {
  "kernelspec": {
   "display_name": "Python 3 (ipykernel)",
   "language": "python",
   "name": "python3"
  },
  "language_info": {
   "codemirror_mode": {
    "name": "ipython",
    "version": 3
   },
   "file_extension": ".py",
   "mimetype": "text/x-python",
   "name": "python",
   "nbconvert_exporter": "python",
   "pygments_lexer": "ipython3",
   "version": "3.10.0"
  }
 },
 "nbformat": 4,
 "nbformat_minor": 5
}
