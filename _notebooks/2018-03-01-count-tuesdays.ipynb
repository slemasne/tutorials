{
 "cells": [
  {
   "cell_type": "markdown",
   "id": "5dc66d60",
   "metadata": {},
   "source": [
    "# Find all Tuesdays\n",
    "\n",
    "In this tutorial we look at two ways to solve the following problem:\n",
    "\n",
    "> Count the number of Tuesday between 1st of January 2000 and 31st of December 2020\n",
    "\n",
    "First, we find the answer using the very helpful [Datetime](https://docs.python.org/3/library/datetime.html) package. This package does most of the heavy lifting for us. Then, for a bit of fun, we try and find the same solution using Python's default data types only. "
   ]
  },
  {
   "cell_type": "markdown",
   "id": "224a5c44",
   "metadata": {},
   "source": [
    "## 1. With the datetime package\n",
    "\n",
    "Start by importing the datetime and timedelta class."
   ]
  },
  {
   "cell_type": "code",
   "execution_count": 1,
   "id": "b1750098",
   "metadata": {},
   "outputs": [],
   "source": [
    "from datetime import datetime, timedelta"
   ]
  },
  {
   "cell_type": "markdown",
   "id": "2eabb024",
   "metadata": {},
   "source": [
    "Then write a function which takes two paraters, `start_year` and `end_year`, which returns the number of Tuesdays between these years. There is an assumption that `start_year` starts on 1st day of the year, and `end_year` ends on the last day of that year."
   ]
  },
  {
   "cell_type": "code",
   "execution_count": 2,
   "id": "8bc48014",
   "metadata": {},
   "outputs": [],
   "source": [
    "def count_tuesdays(start_year, end_year):\n",
    "    \n",
    "    \"\"\"\n",
    "    Returns the number of Tuesaday between two dates.\n",
    "    \n",
    "    Parameters:\n",
    "        start_year (int): The starting year\n",
    "        end_year (int): The end year\n",
    "        \n",
    "    Returns:\n",
    "        count_tuesdays(int): The number of Tuesdays between start_year and end_year\n",
    "    \n",
    "    \"\"\"\n",
    "    \n",
    "    # 1. Find the number of days between start and end year\n",
    "    datetime_range =  datetime(year=end_year, month=1, day=1) - datetime(year=start_year, month=12, day=31)\n",
    "    \n",
    "    # 2. Build a list of Datetimes for this range\n",
    "    date_range = [datetime(year=start_year, month=1, day=1) + timedelta(days=x) for x in range(datetime_range.days)]\n",
    "        \n",
    "    # 3. Count the number of Tuesdays in this range    \n",
    "    count_tuesdays = len([i for i in date_range if i.isoweekday() == 2])\n",
    "        \n",
    "    return count_tuesdays"
   ]
  },
  {
   "cell_type": "code",
   "execution_count": 3,
   "id": "9fbf7a82",
   "metadata": {},
   "outputs": [
    {
     "data": {
      "text/plain": [
       "1044"
      ]
     },
     "execution_count": 3,
     "metadata": {},
     "output_type": "execute_result"
    }
   ],
   "source": [
    "count_tuesdays(2000, 2021)"
   ]
  },
  {
   "cell_type": "markdown",
   "id": "4a19a791",
   "metadata": {},
   "source": [
    "## 2. Using default Python data structures\n",
    "\n",
    "Next, lets make it a little harder to solve. Lets find the same result, this time only using Python's default data structures. In order words, we cannot rely on the `datetime` package. "
   ]
  },
  {
   "cell_type": "markdown",
   "id": "e10643dd",
   "metadata": {},
   "source": [
    "First, we create a simple `Date` object which has the following attributes:\n",
    "    \n",
    "1. year\n",
    "2. month\n",
    "3. day\n",
    "4. is_leap\n",
    "5. day_of_week\n",
    "6. day_of_weel_decode\n",
    "\n",
    "There is nothing too complicated here. We assign some validation on the attributes. For example, the days cannot be greater than 31 and months cannot be greater than 12."
   ]
  },
  {
   "cell_type": "code",
   "execution_count": 4,
   "id": "a8351642",
   "metadata": {},
   "outputs": [],
   "source": [
    "class Date():\n",
    "    \n",
    "    def __init__(self, year, month, day, day_of_week):\n",
    "        self.year = year\n",
    "        self.is_leap = self._is_leap(self.year)\n",
    "        self.month = month\n",
    "        self.day = day\n",
    "        self.day_of_week = day_of_week\n",
    "        self.day_of_week_decode = self._day_of_week_decode()\n",
    "        \n",
    "    @property\n",
    "    def day(self):\n",
    "        return self._day\n",
    "    \n",
    "    @day.setter\n",
    "    def day(self, value):\n",
    "        if (value > 31):\n",
    "            raise Exception(\"Days cannot be greater than 31\") \n",
    "        if (self.month in [9, 4, 6, 11] and value > 31):\n",
    "            raise Exception(f\"Days cannot be greater than 30 for month {self.month}\") \n",
    "        if (self.month == 2):\n",
    "            if (self.is_leap == True and value > 29):\n",
    "                raise Exception(f\"Days must be 29 or less for a leap year Febuary\")\n",
    "            if (self.is_leap == False and value > 28):\n",
    "                raise Exception(f\"Days must be 28 or less for a non-leap year Febuary\")        \n",
    "        self._day = value\n",
    "        \n",
    "    @property\n",
    "    def month(self):\n",
    "        return self._month\n",
    "    \n",
    "    @month.setter\n",
    "    def month(self, value):\n",
    "        if (value > 12): raise Exception(\"Month cannot be greater than 12\") \n",
    "        self._month = value\n",
    "    \n",
    "    @property\n",
    "    def year(self):\n",
    "        return self._year\n",
    "\n",
    "    @year.setter\n",
    "    def year(self, value):\n",
    "        self._year = value\n",
    "        \n",
    "    @property\n",
    "    def day_of_week(self):\n",
    "        return self._day_of_week\n",
    "\n",
    "    @day_of_week.setter\n",
    "    def day_of_week(self, value):\n",
    "        self._day_of_week = value\n",
    "        \n",
    "    def _is_leap(self, year):\n",
    "        \n",
    "        if (year % 4 == 0) & (year % 100 != 0):\n",
    "            return True\n",
    "\n",
    "        if (year % 100 == 0) & (year % 400 == 0):\n",
    "            return True\n",
    "\n",
    "        return False\n",
    "        \n",
    "    def _day_of_week_decode(self):\n",
    "        \n",
    "        decodes = {\n",
    "            \n",
    "            1: \"Mon\",\n",
    "            2: \"Tue\",\n",
    "            3: \"Wed\",\n",
    "            4: \"Thu\",\n",
    "            5: \"Fri\",\n",
    "            6: \"Sat\",\n",
    "            7: \"Sun\"\n",
    "            \n",
    "        }\n",
    "        \n",
    "        return decodes[self.day_of_week]\n",
    "        \n",
    "    def __str__(self):\n",
    "        return f\"{self.year}-{self.month}-{self.day}\"\n",
    "    \n",
    "    def __repr__(self):\n",
    "        return f\"Date({self.year}-{self.month}-{self.day}, {self.day_of_week_decode})\"\n",
    "    \n",
    "        "
   ]
  },
  {
   "cell_type": "markdown",
   "id": "9e9ead1d",
   "metadata": {},
   "source": [
    "Let's build a sample date object to check everything looks ok. We'll create a `Date` for Tuesday 29th of Febuary 2000."
   ]
  },
  {
   "cell_type": "code",
   "execution_count": 5,
   "id": "b1056d0a",
   "metadata": {},
   "outputs": [
    {
     "data": {
      "text/plain": [
       "Date(2000-2-29, Tue)"
      ]
     },
     "execution_count": 5,
     "metadata": {},
     "output_type": "execute_result"
    }
   ],
   "source": [
    "# Create a valid object\n",
    "\n",
    "Date(2000, 2, 29, 2)"
   ]
  },
  {
   "cell_type": "code",
   "execution_count": 6,
   "id": "b81293fc",
   "metadata": {},
   "outputs": [
    {
     "name": "stdout",
     "output_type": "stream",
     "text": [
      "Days must be 28 or less for a non-leap year Febuary\n"
     ]
    }
   ],
   "source": [
    "# Attempt to create an invalid object\n",
    "\n",
    "try:\n",
    "    sample_date =  Date(2001, 2, 29, 2)\n",
    "except Exception as e:\n",
    "    print(e)"
   ]
  },
  {
   "cell_type": "markdown",
   "id": "8e3f3b33",
   "metadata": {},
   "source": [
    "Next, let's build up a range of dates. First we need a generator which will return a weekday label (1 to 7) for each date in our range. We know that the 1st of January is a saturday so we will build our iterable from that point. "
   ]
  },
  {
   "cell_type": "code",
   "execution_count": 7,
   "id": "f31fc639",
   "metadata": {},
   "outputs": [],
   "source": [
    "class DateRange():\n",
    "    \n",
    "    def __init__(self, start_year, end_year, start_day_of_week):\n",
    "        self.start_year = start_year\n",
    "        self.end_year = end_year\n",
    "        self.start_day_of_week = start_day_of_week\n",
    "        self.range = self.build_range(start_year, end_year, start_day_of_week)\n",
    "        \n",
    "    def _days_of_week(self, starting_day):\n",
    "\n",
    "        days_of_week = list(range(1,8))\n",
    "\n",
    "        days_of_week = days_of_week[(starting_day-1):] + days_of_week[:(starting_day-1)]\n",
    "\n",
    "        while True:\n",
    "\n",
    "            for n in days_of_week:\n",
    "\n",
    "                yield(n)\n",
    "                \n",
    "    def _is_leap(self, year):\n",
    "        \n",
    "        if (year % 4 == 0) & (year % 100 != 0):\n",
    "            return True\n",
    "\n",
    "        if (year % 100 == 0) & (year % 400 == 0):\n",
    "            return True\n",
    "\n",
    "        return False\n",
    "\n",
    "    def build_range(self, start_year, end_year, start_day_of_week):\n",
    "                \n",
    "        day_of_week_iterator = self._days_of_week(start_day_of_week)\n",
    "        \n",
    "        date_range = []\n",
    "\n",
    "        for year in range(start_year, end_year+1):\n",
    "\n",
    "            for month in range(1, 13):\n",
    "\n",
    "                if month in [9, 4, 6, 11]:\n",
    "                    day_count = 30\n",
    "\n",
    "                elif (month == 2 and self._is_leap(year)):\n",
    "                    day_count = 29\n",
    "\n",
    "                elif (month == 2 and self._is_leap(year) is False):\n",
    "                    day_count = 28\n",
    "\n",
    "                else:\n",
    "                    day_count = 31\n",
    "\n",
    "                days_in_month = [Date(year, month, i, next(day_of_week_iterator)) for i in range(1, day_count+1)]\n",
    "\n",
    "                date_range.extend(days_in_month)\n",
    "\n",
    "        return date_range"
   ]
  },
  {
   "cell_type": "code",
   "execution_count": 8,
   "id": "97b09b3d",
   "metadata": {},
   "outputs": [
    {
     "data": {
      "text/plain": [
       "1044"
      ]
     },
     "execution_count": 8,
     "metadata": {},
     "output_type": "execute_result"
    }
   ],
   "source": [
    "date_range = DateRange(2000, 2019, 6).range\n",
    "count_tuesdays = len([i for i in date_range if i.day_of_week == 2])\n",
    "count_tuesdays"
   ]
  }
 ],
 "metadata": {
  "kernelspec": {
   "display_name": "Python 3 (ipykernel)",
   "language": "python",
   "name": "python3"
  },
  "language_info": {
   "codemirror_mode": {
    "name": "ipython",
    "version": 3
   },
   "file_extension": ".py",
   "mimetype": "text/x-python",
   "name": "python",
   "nbconvert_exporter": "python",
   "pygments_lexer": "ipython3",
   "version": "3.10.0"
  }
 },
 "nbformat": 4,
 "nbformat_minor": 5
}
